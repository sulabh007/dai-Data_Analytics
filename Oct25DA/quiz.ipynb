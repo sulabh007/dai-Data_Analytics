{
 "cells": [
  {
   "cell_type": "markdown",
   "metadata": {
    "notebookRunGroups": {
     "groupValue": "2"
    }
   },
   "source": [
    "10. We want to determine if there is a significant difference in the average weight loss between two diet programs"
   ]
  },
  {
   "cell_type": "markdown",
   "metadata": {},
   "source": [
    "12. We collected data on the number of years of work experience and corresponding annual income of 50 individual in a specific industry and our goal is to build a model that predicts income based on the two number of years experience\n",
    "\n",
    "linear"
   ]
  },
  {
   "cell_type": "markdown",
   "metadata": {},
   "source": [
    "13. We collaborated with a healthcare team to investigate factors influeencing patient readmission to a hospital within 30 days after discharge by collecting data on patient age , comorbidites , and whether or not they were readmitted - our goal is to predict the likelihood \n",
    "logistic"
   ]
  },
  {
   "cell_type": "markdown",
   "metadata": {},
   "source": [
    "14. anova "
   ]
  },
  {
   "cell_type": "markdown",
   "metadata": {},
   "source": [
    "15. chi "
   ]
  },
  {
   "cell_type": "markdown",
   "metadata": {},
   "source": [
    "16. anova"
   ]
  },
  {
   "cell_type": "markdown",
   "metadata": {},
   "source": [
    "17. T test"
   ]
  },
  {
   "cell_type": "markdown",
   "metadata": {},
   "source": [
    "18. linear regresion"
   ]
  },
  {
   "cell_type": "markdown",
   "metadata": {},
   "source": [
    "19. Anova"
   ]
  },
  {
   "cell_type": "markdown",
   "metadata": {},
   "source": [
    "20. Corr"
   ]
  },
  {
   "cell_type": "markdown",
   "metadata": {},
   "source": [
    "21. chi"
   ]
  },
  {
   "cell_type": "markdown",
   "metadata": {},
   "source": [
    "22. logistic"
   ]
  }
 ],
 "metadata": {
  "language_info": {
   "name": "python"
  }
 },
 "nbformat": 4,
 "nbformat_minor": 2
}
